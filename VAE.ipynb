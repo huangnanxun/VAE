{
 "cells": [
  {
   "cell_type": "code",
   "execution_count": 93,
   "metadata": {},
   "outputs": [],
   "source": [
    "import torch\n",
    "import numpy as np\n",
    "import pandas as pd\n",
    "import matplotlib.pyplot as plt\n",
    "import torchvision\n",
    "import torchvision.transforms as transforms\n",
    "import torch.nn as nn\n",
    "import os\n",
    "from torchvision.utils import save_image\n",
    "import sys\n",
    "from torch.autograd import Variable"
   ]
  },
  {
   "cell_type": "code",
   "execution_count": 94,
   "metadata": {},
   "outputs": [],
   "source": [
    "trainset = torchvision.datasets.MNIST(root='./data', train=True,transform=transforms.ToTensor())\n",
    "testset = torchvision.datasets.MNIST(root='./data', train=False,transform=transforms.ToTensor())"
   ]
  },
  {
   "cell_type": "code",
   "execution_count": 95,
   "metadata": {},
   "outputs": [],
   "source": [
    "train_data = torch.utils.data.DataLoader(dataset=trainset, \n",
    "                                           batch_size=64, \n",
    "                                           shuffle=True)\n",
    " \n",
    "test_data = torch.utils.data.DataLoader(dataset=testset, \n",
    "                                          batch_size=64, \n",
    "                                          shuffle=False)"
   ]
  },
  {
   "cell_type": "code",
   "execution_count": 96,
   "metadata": {},
   "outputs": [],
   "source": [
    "class VAE(nn.Module):\n",
    "    def __init__(self):\n",
    "        #Encoder\n",
    "        super(VAE, self).__init__()\n",
    "        self.Encoder = nn.Sequential(\n",
    "            nn.Linear(784, 400),\n",
    "            nn.LeakyReLU(0.2, inplace=True),\n",
    "        )\n",
    "        \n",
    "        self.fc_mu = nn.Linear(400, 20)\n",
    "        self.fc_sig = nn.Linear(400, 20)\n",
    "    \n",
    "    \n",
    "        self.Decoder = nn.Sequential(\n",
    "            nn.Linear(20, 400),\n",
    "            nn.LeakyReLU(0.2, inplace=True),\n",
    "            #nn.ReLU()\n",
    "            nn.Linear(400, 784),\n",
    "            nn.Sigmoid() \n",
    "        )\n",
    "    \n",
    "    def hidden_state_representation(self, mu, sig):\n",
    "        error = Variable(torch.randn(mu.size(0),mu.size(1)))\n",
    "        z = mu + error  * torch.exp(sig/2)  \n",
    "        return z\n",
    "\n",
    "    def forward(self, x):\n",
    "        y1 = self.Encoder(x)\n",
    "        y2 = self.Encoder(x)\n",
    "        mu = self.fc_mu(y1)\n",
    "        sig = self.fc_sig(y2)\n",
    "        z = self.hidden_state_representation(mu, sig)\n",
    "        out = self.Decoder(z)\n",
    "        return out,mu,sig"
   ]
  },
  {
   "cell_type": "code",
   "execution_count": 97,
   "metadata": {},
   "outputs": [],
   "source": [
    "vae = VAE()"
   ]
  },
  {
   "cell_type": "code",
   "execution_count": 98,
   "metadata": {},
   "outputs": [],
   "source": [
    "criterion = nn.BCELoss(reduction='sum')\n",
    "optimizer = torch.optim.Adam(vae.parameters(), lr=0.001)"
   ]
  },
  {
   "cell_type": "code",
   "execution_count": 99,
   "metadata": {},
   "outputs": [],
   "source": [
    "num_epochs = 10"
   ]
  },
  {
   "cell_type": "code",
   "execution_count": 101,
   "metadata": {},
   "outputs": [
    {
     "name": "stdout",
     "output_type": "stream",
     "text": [
      "Epoch[1/10]\n",
      "Epoch[2/10]\n",
      "Epoch[3/10]\n",
      "Epoch[4/10]\n",
      "Epoch[5/10]\n",
      "Epoch[6/10]\n",
      "Epoch[7/10]\n",
      "Epoch[8/10]\n",
      "Epoch[9/10]\n",
      "Epoch[10/10]\n"
     ]
    }
   ],
   "source": [
    "loss_list = []\n",
    "for epoch in range(num_epochs):\n",
    "    loss_sum_in_epoch = 0\n",
    "    for step,(x, _) in enumerate(train_data):\n",
    "        if (x.shape[0] != 64):\n",
    "            continue\n",
    "        x = x.reshape(64,784)\n",
    "        vae_outputs = vae(x)\n",
    "        loss = criterion(vae_outputs[0], x) - 0.5 * torch.sum(1 + vae_outputs[1] - vae_outputs[1].pow(2) - vae_outputs[2].exp())\n",
    "        #print(loss)\n",
    "        optimizer.zero_grad()\n",
    "        loss.backward()\n",
    "        optimizer.step()\n",
    "        loss_sum_in_epoch = loss_sum_in_epoch + loss.item()\n",
    "    loss_list.append(loss_sum_in_epoch/937)\n",
    "    print('Epoch[{}/{}]'.format(epoch+1,num_epochs))"
   ]
  },
  {
   "cell_type": "code",
   "execution_count": 102,
   "metadata": {},
   "outputs": [
    {
     "data": {
      "text/plain": [
       "[<matplotlib.lines.Line2D at 0x249ee1bd320>]"
      ]
     },
     "execution_count": 102,
     "metadata": {},
     "output_type": "execute_result"
    },
    {
     "data": {
      "image/png": "[encoded data removed]",
      "text/plain": [
       "<Figure size 432x288 with 1 Axes>"
      ]
     },
     "metadata": {
      "needs_background": "light"
     },
     "output_type": "display_data"
    }
   ],
   "source": [
    "Loss_df = pd.DataFrame({'index': list(range(10)), 'Loss': loss_list})\n",
    "plt.plot('index', 'Loss', data=Loss_df)"
   ]
  },
  {
   "cell_type": "code",
   "execution_count": 104,
   "metadata": {},
   "outputs": [],
   "source": [
    "iterator = iter(test_data)\n",
    "x_test, label = iterator.next()\n",
    "x_test = x_test.reshape(64,784)\n",
    "vae_outputs = vae(x_test)[0]\n",
    "vae_outputs = vae_outputs.reshape(64,1,28,28)\n",
    "vae_sample = vae_outputs[:16].reshape(vae_outputs[:16].size(0), 1, 28, 28)\n",
    "save_image(vae_sample, 'VAE_out.png',nrow=4)"
   ]
  },
  {
   "cell_type": "code",
   "execution_count": 92,
   "metadata": {},
   "outputs": [],
   "source": [
    "torch.save(vae.state_dict(), 'hw5_vae.pth')"
   ]
  },
  {
   "cell_type": "code",
   "execution_count": null,
   "metadata": {},
   "outputs": [],
   "source": []
  }
 ],
 "metadata": {
  "kernelspec": {
   "display_name": "Python 3",
   "language": "python",
   "name": "python3"
  },
  "language_info": {
   "codemirror_mode": {
    "name": "ipython",
    "version": 3
   },
   "file_extension": ".py",
   "mimetype": "text/x-python",
   "name": "python",
   "nbconvert_exporter": "python",
   "pygments_lexer": "ipython3",
   "version": "3.7.3"
  }
 },
 "nbformat": 4,
 "nbformat_minor": 2
}
